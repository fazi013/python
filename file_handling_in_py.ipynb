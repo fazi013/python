{
  "nbformat": 4,
  "nbformat_minor": 0,
  "metadata": {
    "colab": {
      "provenance": [],
      "authorship_tag": "ABX9TyO2576m8qULAx+rBAJtZIFp",
      "include_colab_link": true
    },
    "kernelspec": {
      "name": "python3",
      "display_name": "Python 3"
    },
    "language_info": {
      "name": "python"
    }
  },
  "cells": [
    {
      "cell_type": "markdown",
      "metadata": {
        "id": "view-in-github",
        "colab_type": "text"
      },
      "source": [
        "<a href=\"https://colab.research.google.com/github/fazi013/python/blob/main/file_handling_in_py.ipynb\" target=\"_parent\"><img src=\"https://colab.research.google.com/assets/colab-badge.svg\" alt=\"Open In Colab\"/></a>"
      ]
    },
    {
      "cell_type": "code",
      "execution_count": 6,
      "metadata": {
        "colab": {
          "base_uri": "https://localhost:8080/"
        },
        "id": "EZ4v18eT4Ohz",
        "outputId": "2741c18d-51a5-45eb-f349-3caad2fab54c"
      },
      "outputs": [
        {
          "output_type": "stream",
          "name": "stdout",
          "text": [
            "Yeh meri pehli file hai AI learning ke liye.\n"
          ]
        }
      ],
      "source": [
        "# Ek file banao jisme tum apna AI learning goal likho\n",
        "# Us file ko read karo aur print karo\n",
        "# Ek loop se 5 lines likho file mein\n",
        "# Sirf wo lines read karo jisme \"Python\" word ho\n",
        "file = open(\"data.txt\", \"w\")  # \"w\" means write mode\n",
        "file.write(\"Yeh meri pehli file hai AI learning ke liye.\")\n",
        "file.close()\n",
        "\n",
        "file =open('data.txt','r')\n",
        "content=file.read()\n",
        "print(content)\n",
        "file.close()"
      ]
    },
    {
      "cell_type": "code",
      "source": [
        "data=[\n",
        "   \"my name is faisal \",\n",
        "    'i am software developer ',\n",
        "    'and a student '\n",
        "]\n",
        "txt=[\n",
        "    \"Motivated and detail-oriented Computer Science graduate with a strong foundation in Python\",\n",
        "\"programming, artificial intelligence, and computer vision. Skilled in writing efficient and well\",\n",
        "\"structured code with a focus on real-world problem solving. Enthusiastic about leveraging AI\",\n",
        "\"technologies to build intelligent and automated systems.\"\n",
        "\n",
        "]\n",
        "file =open('data.txt','w')\n",
        "for line in data:\n",
        "  file.write(line +\"\\n\" )\n",
        "file.close()\n",
        "\n",
        "with open('data.txt','a')as file:\n",
        "  for line in txt:\n",
        "        file.write(line + \"\\n\")\n",
        "file.close()\n",
        "with open('data.txt','r')as file:\n",
        "  content=file.read()\n",
        "  print(content)\n"
      ],
      "metadata": {
        "colab": {
          "base_uri": "https://localhost:8080/"
        },
        "id": "0MmCz_A98K8B",
        "outputId": "708cb602-7e18-4a75-a08c-add580bce666"
      },
      "execution_count": 24,
      "outputs": [
        {
          "output_type": "stream",
          "name": "stdout",
          "text": [
            "my name is faisal \n",
            "i am software developer \n",
            "and a student \n",
            "Motivated and detail-oriented Computer Science graduate with a strong foundation in Python\n",
            "programming, artificial intelligence, and computer vision. Skilled in writing efficient and well\n",
            "structured code with a focus on real-world problem solving. Enthusiastic about leveraging AI\n",
            "technologies to build intelligent and automated systems.\n",
            "\n"
          ]
        }
      ]
    },
    {
      "cell_type": "code",
      "source": [
        "# Ek CSV file banao jisme tumhare AI learning goals ho (week-wise)\n",
        "# Us file ko read karo aur sirf wo rows print karo jisme \"Python\" ya \"AI\" likha ho\n",
        "# Ek mini project banao: AI Learning Tracker using CSV\n",
        "import csv\n",
        "with open('goals.csv' , 'w',newline='')as file:\n",
        "  writer= csv.writer(file)\n",
        "  writer.writerow(['day','time','goal'])\n",
        "  writer.writerow(['monday','5','goal'])\n",
        "  writer.writerow(['tuesday','5','goal'])\n",
        "  writer.writerow(['thursday','5','goal'])\n",
        "  writer.writerow(['friday','5','goal'])\n",
        "  writer.writerow(['satuarday','5','goal'])\n",
        "  writer.writerow(['sunday','5','goal'])\n",
        "with open('goals.csv','r')as file:\n",
        "  reader=csv.reader(file)\n",
        "  for row in reader:\n",
        "    print(row)\n",
        "\n"
      ],
      "metadata": {
        "colab": {
          "base_uri": "https://localhost:8080/"
        },
        "id": "mr8a1RaiEb8l",
        "outputId": "c98ed425-2ecc-4662-d1c1-1120928b0a6e"
      },
      "execution_count": 27,
      "outputs": [
        {
          "output_type": "stream",
          "name": "stdout",
          "text": [
            "['day', 'time', 'goal']\n",
            "['monday', '5', 'goal']\n",
            "['tuesday', '5', 'goal']\n",
            "['thursday', '5', 'goal']\n",
            "['friday', '5', 'goal']\n",
            "['satuarday', '5', 'goal']\n",
            "['sunday', '5', 'goal']\n"
          ]
        }
      ]
    },
    {
      "cell_type": "code",
      "source": [
        "with open('goals.csv','a')as file:\n",
        "  writer= csv.writer(file)\n",
        "  writer.writerow(['week',7,'achived'])"
      ],
      "metadata": {
        "id": "QZem4DK9Gu_v"
      },
      "execution_count": 29,
      "outputs": []
    },
    {
      "cell_type": "code",
      "source": [],
      "metadata": {
        "id": "Rh0V_eeHIq8I"
      },
      "execution_count": null,
      "outputs": []
    }
  ]
}