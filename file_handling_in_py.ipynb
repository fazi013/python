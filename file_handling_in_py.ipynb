{
  "nbformat": 4,
  "nbformat_minor": 0,
  "metadata": {
    "colab": {
      "provenance": [],
      "authorship_tag": "ABX9TyN3hS7BcTLzSxNNkR/n2Zbl",
      "include_colab_link": true
    },
    "kernelspec": {
      "name": "python3",
      "display_name": "Python 3"
    },
    "language_info": {
      "name": "python"
    }
  },
  "cells": [
    {
      "cell_type": "markdown",
      "metadata": {
        "id": "view-in-github",
        "colab_type": "text"
      },
      "source": [
        "<a href=\"https://colab.research.google.com/github/fazi013/python/blob/main/file_handling_in_py.ipynb\" target=\"_parent\"><img src=\"https://colab.research.google.com/assets/colab-badge.svg\" alt=\"Open In Colab\"/></a>"
      ]
    },
    {
      "cell_type": "code",
      "execution_count": 4,
      "metadata": {
        "colab": {
          "base_uri": "https://localhost:8080/"
        },
        "id": "EZ4v18eT4Ohz",
        "outputId": "170fe9d8-07c3-47b7-f719-5192ca703a68"
      },
      "outputs": [
        {
          "output_type": "stream",
          "name": "stdout",
          "text": [
            "Yeh meri pehli file hai AI learning ke liye.\n"
          ]
        }
      ],
      "source": [
        "# Ek file banao jisme tum apna AI learning goal likho\n",
        "# Us file ko read karo aur print karo\n",
        "# Ek loop se 5 lines likho file mein\n",
        "# Sirf wo lines read karo jisme \"Python\" word ho\n",
        "file = open(\"data.txt\", \"w\")  # \"w\" means write mode\n",
        "file.write(\"Yeh meri pehli file hai AI learning ke liye.\")\n",
        "file.close()\n",
        "\n",
        "file =open('data.txt','r')\n",
        "content=file.read()\n",
        "print(content)\n",
        "file.close()"
      ]
    },
    {
      "cell_type": "code",
      "source": [
        "data=[\n",
        "   \"my name is faisal \",\n",
        "    'i am software developer ',\n",
        "    'and a student '\n",
        "]\n",
        "txt=[\n",
        "    \"Motivated and detail-oriented Computer Science graduate with a strong foundation in Python\",\n",
        "\"programming, artificial intelligence, and computer vision. Skilled in writing efficient and well\",\n",
        "\"structured code with a focus on real-world problem solving. Enthusiastic about leveraging AI\",\n",
        "\"technologies to build intelligent and automated systems.\"\n",
        "\n",
        "]\n",
        "file =open('data.txt','w')\n",
        "for line in data:\n",
        "  file.write(line +\"\\n\" )\n",
        "file.close()\n",
        "\n",
        "with open('data.txt','a')as file:\n",
        "  for line in txt:\n",
        "        file.write(line + \"\\n\")\n",
        "file.close()\n",
        "with open('data.txt','r')as file:\n",
        "  content=file.read()\n",
        "  print(content)\n"
      ],
      "metadata": {
        "colab": {
          "base_uri": "https://localhost:8080/"
        },
        "id": "0MmCz_A98K8B",
        "outputId": "b680dc51-84db-4e39-d6e5-3ec7d4bf8ffd"
      },
      "execution_count": 5,
      "outputs": [
        {
          "output_type": "stream",
          "name": "stdout",
          "text": [
            "my name is faisal \n",
            "i am software developer \n",
            "and a student \n",
            "Motivated and detail-oriented Computer Science graduate with a strong foundation in Python\n",
            "programming, artificial intelligence, and computer vision. Skilled in writing efficient and well\n",
            "structured code with a focus on real-world problem solving. Enthusiastic about leveraging AI\n",
            "technologies to build intelligent and automated systems.\n",
            "\n"
          ]
        }
      ]
    },
    {
      "cell_type": "code",
      "source": [
        "# Ek CSV file banao jisme tumhare AI learning goals ho (week-wise)\n",
        "# Us file ko read karo aur sirf wo rows print karo jisme \"Python\" ya \"AI\" likha ho\n",
        "# Ek mini project banao: AI Learning Tracker using CSV\n",
        "import csv\n",
        "with open('goals.csv' , 'w',newline='')as file:\n",
        "  writer= csv.writer(file)\n",
        "  writer.writerow(['day','time','goal'])\n",
        "  writer.writerow(['monday','5','goal'])\n",
        "  writer.writerow(['tuesday','5','goal'])\n",
        "  writer.writerow(['thursday','5','goal'])\n",
        "  writer.writerow(['friday','5','goal'])\n",
        "  writer.writerow(['satuarday','5','goal'])\n",
        "  writer.writerow(['sunday','5','goal'])\n",
        "with open('goals.csv','r')as file:\n",
        "  reader=csv.reader(file)\n",
        "  for row in reader:\n",
        "    print(row)\n",
        "\n"
      ],
      "metadata": {
        "colab": {
          "base_uri": "https://localhost:8080/"
        },
        "id": "mr8a1RaiEb8l",
        "outputId": "b03a8a2a-982d-45ae-ac19-83f88b057dbf"
      },
      "execution_count": 6,
      "outputs": [
        {
          "output_type": "stream",
          "name": "stdout",
          "text": [
            "['day', 'time', 'goal']\n",
            "['monday', '5', 'goal']\n",
            "['tuesday', '5', 'goal']\n",
            "['thursday', '5', 'goal']\n",
            "['friday', '5', 'goal']\n",
            "['satuarday', '5', 'goal']\n",
            "['sunday', '5', 'goal']\n"
          ]
        }
      ]
    },
    {
      "cell_type": "code",
      "source": [
        "with open('goals.csv','a')as file:\n",
        "  writer= csv.writer(file)\n",
        "  writer.writerow(['week',7,'achived'])"
      ],
      "metadata": {
        "id": "QZem4DK9Gu_v"
      },
      "execution_count": 7,
      "outputs": []
    },
    {
      "cell_type": "code",
      "source": [
        "import csv\n",
        "with open('dictnary.csv','w',newline='')as file:\n",
        "  fieldname=['name','email','phone','address']\n",
        "  writer=csv.DictWriter(file,fieldnames=fieldname)\n",
        "  writer.writeheader()\n",
        "\n",
        "  writer.writerow({\n",
        "      'name':'faisal',\n",
        "      'email':'faisal',\n",
        "      'phone':'098765',\n",
        "      'address':'faisal'\n",
        "  })\n",
        "  writer.writerow({\n",
        "      'name':'faisal',\n",
        "      'email':'faisal',\n",
        "      'phone':'098765',\n",
        "      'address':'faisal'\n",
        "  })\n",
        "  writer.writerow({\n",
        "      'name':'faisal',\n",
        "      'email':'faisal',\n",
        "      'phone':'098765',\n",
        "      'address':'faisal'\n",
        "  })\n",
        "  writer.writerow({\n",
        "      'name':'faisal',\n",
        "      'email':'faisal',\n",
        "      'phone':'098765',\n",
        "      'address':'faisal'\n",
        "  })\n",
        "  writer.writerow({\n",
        "      'name':'faisal',\n",
        "      'email':'faisal',\n",
        "      'phone':'098765',\n",
        "      'address':'faisal'\n",
        "  })\n",
        "  writer.writerow({\n",
        "      'name':'faisal',\n",
        "      'email':'faisal',\n",
        "      'phone':'098765',\n",
        "      'address':'faisal'\n",
        "  })\n",
        "\n",
        "\n"
      ],
      "metadata": {
        "id": "Rh0V_eeHIq8I"
      },
      "execution_count": 8,
      "outputs": []
    },
    {
      "cell_type": "code",
      "source": [
        "%%writefile diary.csv\n",
        "Week,Topic,Progress,Remarks\n",
        "Week 1,Python Basics,Completed,Strong foundation\n",
        "Week 2,File Handling,Completed,Practiced read/write\n",
        "Week 3,CSV Handling,In Progress,Need more filtering\n",
        "Week 4,Pandas Basics,Not Started,Starting this week\n",
        "Week 5,Matplotlib Intro,Not Started,Graphs look exciting"
      ],
      "metadata": {
        "colab": {
          "base_uri": "https://localhost:8080/"
        },
        "id": "rDi6XbDOZxwq",
        "outputId": "e622b82c-9c48-4788-e6eb-864e01c6c4b1"
      },
      "execution_count": 43,
      "outputs": [
        {
          "output_type": "stream",
          "name": "stdout",
          "text": [
            "Overwriting diary.csv\n"
          ]
        }
      ]
    },
    {
      "cell_type": "code",
      "source": [
        "import pandas as pd\n",
        "fd =pd.read_csv('dictnary.csv')\n",
        "print(fd)"
      ],
      "metadata": {
        "colab": {
          "base_uri": "https://localhost:8080/"
        },
        "id": "f_sUGOezOoVw",
        "outputId": "f6d38929-1623-4b56-b87e-744cfd0c59a9"
      },
      "execution_count": 11,
      "outputs": [
        {
          "output_type": "stream",
          "name": "stdout",
          "text": [
            "     name   email  phone address\n",
            "0  faisal  faisal  98765  faisal\n",
            "1  faisal  faisal  98765  faisal\n",
            "2  faisal  faisal  98765  faisal\n",
            "3  faisal  faisal  98765  faisal\n",
            "4  faisal  faisal  98765  faisal\n",
            "5  faisal  faisal  98765  faisal\n"
          ]
        }
      ]
    },
    {
      "cell_type": "code",
      "source": [
        "import pandas as pd\n",
        "df =pd.read_csv('diary.csv')\n",
        "print (df)"
      ],
      "metadata": {
        "colab": {
          "base_uri": "https://localhost:8080/"
        },
        "id": "uJQxu7QVbUOG",
        "outputId": "639b65b1-13e3-4ac1-a191-7cf2b5989dff"
      },
      "execution_count": 13,
      "outputs": [
        {
          "output_type": "stream",
          "name": "stdout",
          "text": [
            "     Week             Topic     Progress               Remarks\n",
            "0  Week 1     Python Basics    Completed     Strong foundation\n",
            "1  Week 2     File Handling    Completed  Practiced read/write\n",
            "2  Week 3      CSV Handling  In Progress   Need more filtering\n",
            "3  Week 4     Pandas Basics  Not Started    Starting this week\n",
            "4  Week 5  Matplotlib Intro  Not Started  Graphs look exciting\n"
          ]
        }
      ]
    },
    {
      "cell_type": "code",
      "source": [
        "\n",
        "import pandas as pd\n",
        "df= pd.read_csv('diary.csv')\n",
        "for index,row in df.iterrows():\n",
        "  print(f\"{row['Topic']}\"),\n",
        "  print(f\"{row['Week']}\"),\n",
        "  print(f\"{row['Progress']}\"),\n",
        "  print(f\"{row['Remarks']}\")\n",
        "  print(\"-\"*40)\n",
        "print(df[df['Progress']!='In Progress'])\n"
      ],
      "metadata": {
        "colab": {
          "base_uri": "https://localhost:8080/"
        },
        "id": "_OupuSvebvIM",
        "outputId": "2d0ce59e-81bb-4989-b45d-2a611c29daae",
        "collapsed": true
      },
      "execution_count": 16,
      "outputs": [
        {
          "output_type": "stream",
          "name": "stdout",
          "text": [
            "Python Basics\n",
            "Week 1\n",
            "Completed\n",
            "Strong foundation\n",
            "----------------------------------------\n",
            "File Handling\n",
            "Week 2\n",
            "Completed\n",
            "Practiced read/write\n",
            "----------------------------------------\n",
            "CSV Handling\n",
            "Week 3\n",
            "In Progress\n",
            "Need more filtering\n",
            "----------------------------------------\n",
            "Pandas Basics\n",
            "Week 4\n",
            "Not Started\n",
            "Starting this week\n",
            "----------------------------------------\n",
            "Matplotlib Intro\n",
            "Week 5\n",
            "Not Started\n",
            "Graphs look exciting\n",
            "----------------------------------------\n",
            "     Week             Topic     Progress               Remarks\n",
            "0  Week 1     Python Basics    Completed     Strong foundation\n",
            "1  Week 2     File Handling    Completed  Practiced read/write\n",
            "3  Week 4     Pandas Basics  Not Started    Starting this week\n",
            "4  Week 5  Matplotlib Intro  Not Started  Graphs look exciting\n"
          ]
        }
      ]
    },
    {
      "cell_type": "code",
      "source": [
        "\n",
        "#- Read CSV using Pandas\n",
        "import pandas as pd\n",
        "df = pd.read_csv('diary.csv')\n",
        "#print(df)\n",
        "\n",
        "InComplete=df[df['Progress']!='Completed']#- Filter incomplete topics\n",
        "#print(InComplete)\n",
        "\n",
        "comple=df[df['Progress']=='Completed']#- Calculate completion percentage\n",
        "persentage=len(comple) /len(df)\n",
        "#print(\"The complete persentage is \",persentage)\n",
        "\n"
      ],
      "metadata": {
        "collapsed": true,
        "id": "ZEhXNX-0dhfN"
      },
      "execution_count": 48,
      "outputs": []
    },
    {
      "cell_type": "code",
      "source": [
        "# Add new weekly entries\n",
        "new_row=pd.DataFrame([{\n",
        "    \"Week\":\"\",\n",
        "    \"Topic\":\"all algos\",\n",
        "    \"Progress\":\"not started\",\n",
        "    \"Remarks\" : \"look dificult\"\n",
        "}])\n",
        "df = pd.concat([df,new_row],ignore_index=True)\n",
        "print(df)\n"
      ],
      "metadata": {
        "colab": {
          "base_uri": "https://localhost:8080/"
        },
        "id": "UVQJM0Zl67rZ",
        "outputId": "65c927d0-d620-4951-c398-d993caf58468"
      },
      "execution_count": 53,
      "outputs": [
        {
          "output_type": "stream",
          "name": "stdout",
          "text": [
            "      Week             Topic     Progress               Remarks\n",
            "0   Week 1     Python Basics    Completed     Strong foundation\n",
            "1   Week 2     File Handling    Completed  Practiced read/write\n",
            "2   Week 3      CSV Handling  In Progress   Need more filtering\n",
            "3   Week 4     Pandas Basics  Not Started    Starting this week\n",
            "4   Week 5  Matplotlib Intro  Not Started  Graphs look exciting\n",
            "5    week6          al algos  not started         look dificult\n",
            "6    week6          al algos  not started         look dificult\n",
            "7    week6          al algos  not started         look dificult\n",
            "8    week7         all algos  not started         look dificult\n",
            "9    week8         all algos  not started         look dificult\n",
            "10                 all algos  not started         look dificult\n"
          ]
        }
      ]
    },
    {
      "cell_type": "code",
      "source": [
        "df.to_csv(\"diary.csv\",index=False)"
      ],
      "metadata": {
        "id": "U7E5k5VC7R39"
      },
      "execution_count": 64,
      "outputs": []
    },
    {
      "cell_type": "code",
      "source": [
        "df = df[df['Week'].notna()]\n",
        "\n",
        "\n",
        "print(df)"
      ],
      "metadata": {
        "colab": {
          "base_uri": "https://localhost:8080/"
        },
        "id": "1riLr3fT5901",
        "outputId": "1470fc63-3d37-483f-8c76-8f15c3f3ecb5"
      },
      "execution_count": 56,
      "outputs": [
        {
          "output_type": "stream",
          "name": "stdout",
          "text": [
            "      Week             Topic     Progress               Remarks\n",
            "0   Week 1     Python Basics    Completed     Strong foundation\n",
            "1   Week 2     File Handling    Completed  Practiced read/write\n",
            "2   Week 3      CSV Handling  In Progress   Need more filtering\n",
            "3   Week 4     Pandas Basics  Not Started    Starting this week\n",
            "4   Week 5  Matplotlib Intro  Not Started  Graphs look exciting\n",
            "5    week6          al algos  not started         look dificult\n",
            "6    week6          al algos  not started         look dificult\n",
            "7    week6          al algos  not started         look dificult\n",
            "8    week7         all algos  not started         look dificult\n",
            "9    week8         all algos  not started         look dificult\n",
            "10                 all algos  not started         look dificult\n"
          ]
        }
      ]
    },
    {
      "cell_type": "code",
      "source": [
        "df.loc[df['Week'] == 'week6', 'Week'] = 'week9'\n",
        "print(df)"
      ],
      "metadata": {
        "colab": {
          "base_uri": "https://localhost:8080/"
        },
        "id": "082xUXDD9rGr",
        "outputId": "1868a3de-98d2-45f7-fdc2-66ce37d00700"
      },
      "execution_count": 65,
      "outputs": [
        {
          "output_type": "stream",
          "name": "stdout",
          "text": [
            "      Week             Topic     Progress               Remarks\n",
            "0   Week 1     Python Basics    Completed     Strong foundation\n",
            "1   Week 2     File Handling    Completed  Practiced read/write\n",
            "2   Week 3      CSV Handling  In Progress   Need more filtering\n",
            "3   Week 4     Pandas Basics  Not Started    Starting this week\n",
            "4   Week 5  Matplotlib Intro  Not Started  Graphs look exciting\n",
            "5    week9          al algos  not started         look dificult\n",
            "6    week9          al algos  not started         look dificult\n",
            "7    week9          al algos  not started         look dificult\n",
            "8    week7         all algos  not started         look dificult\n",
            "9    week8         all algos  not started         look dificult\n",
            "10  week10         all algos  not started         look dificult\n"
          ]
        }
      ]
    }
  ]
}